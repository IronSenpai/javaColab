{
  "nbformat": 4,
  "nbformat_minor": 0,
  "metadata": {
    "colab": {
      "name": "Java Code.ipynb",
      "provenance": [],
      "collapsed_sections": [],
      "include_colab_link": true
    },
    "kernelspec": {
      "name": "python3",
      "display_name": "Python 3"
    }
  },
  "cells": [
    {
      "cell_type": "markdown",
      "metadata": {
        "id": "view-in-github",
        "colab_type": "text"
      },
      "source": [
        "<a href=\"https://colab.research.google.com/github/IronSenpai/javaColab/blob/master/Java_Code.ipynb\" target=\"_parent\"><img src=\"https://colab.research.google.com/assets/colab-badge.svg\" alt=\"Open In Colab\"/></a>"
      ]
    },
    {
      "cell_type": "markdown",
      "metadata": {
        "id": "_s9ewLG3iggN",
        "colab_type": "text"
      },
      "source": [
        "Install JDK (Java 8)"
      ]
    },
    {
      "cell_type": "code",
      "metadata": {
        "id": "YAfjrsnvYIip",
        "colab_type": "code",
        "colab": {
          "base_uri": "https://localhost:8080/",
          "height": 85
        },
        "outputId": "51ee1b6f-a3a9-4c6b-ef09-b7def9477975"
      },
      "source": [
        "!apt-get install openjdk-8-jdk-headless -qq > /dev/null\n",
        "import os\n",
        "os.environ[\"JAVA_HOME\"] = \"/usr/lib/jvm/java-8-openjdk-amd64\"\n",
        "!update-alternatives --set java /usr/lib/jvm/java-8-openjdk-amd64/jre/bin/java\n",
        "!java -version"
      ],
      "execution_count": 1,
      "outputs": [
        {
          "output_type": "stream",
          "text": [
            "update-alternatives: using /usr/lib/jvm/java-8-openjdk-amd64/jre/bin/java to provide /usr/bin/java (java) in manual mode\n",
            "openjdk version \"1.8.0_222\"\n",
            "OpenJDK Runtime Environment (build 1.8.0_222-8u222-b10-1ubuntu1~18.04.1-b10)\n",
            "OpenJDK 64-Bit Server VM (build 25.222-b10, mixed mode)\n"
          ],
          "name": "stdout"
        }
      ]
    },
    {
      "cell_type": "markdown",
      "metadata": {
        "id": "1lsKz-__f7Os",
        "colab_type": "text"
      },
      "source": [
        "Install wget to download java files to compile"
      ]
    },
    {
      "cell_type": "code",
      "metadata": {
        "id": "8jWeGtrWdyOC",
        "colab_type": "code",
        "colab": {
          "base_uri": "https://localhost:8080/",
          "height": 170
        },
        "outputId": "6bce0967-250c-4ade-c3d0-8edfe43c33a6"
      },
      "source": [
        "!pip install wget"
      ],
      "execution_count": 6,
      "outputs": [
        {
          "output_type": "stream",
          "text": [
            "Collecting wget\n",
            "  Downloading https://files.pythonhosted.org/packages/47/6a/62e288da7bcda82b935ff0c6cfe542970f04e29c756b0e147251b2fb251f/wget-3.2.zip\n",
            "Building wheels for collected packages: wget\n",
            "  Building wheel for wget (setup.py) ... \u001b[?25l\u001b[?25hdone\n",
            "  Created wheel for wget: filename=wget-3.2-cp36-none-any.whl size=9681 sha256=1c29af47deb59dd9bfc03e5e1fe10a97e8f961d4fc2f0c7981efdce8024da112\n",
            "  Stored in directory: /root/.cache/pip/wheels/40/15/30/7d8f7cea2902b4db79e3fea550d7d7b85ecb27ef992b618f3f\n",
            "Successfully built wget\n",
            "Installing collected packages: wget\n",
            "Successfully installed wget-3.2\n"
          ],
          "name": "stdout"
        }
      ]
    },
    {
      "cell_type": "markdown",
      "metadata": {
        "id": "JdopPE2Xiy6f",
        "colab_type": "text"
      },
      "source": [
        "wget a java file"
      ]
    },
    {
      "cell_type": "code",
      "metadata": {
        "id": "d9RCzBkbc_k1",
        "colab_type": "code",
        "colab": {
          "base_uri": "https://localhost:8080/",
          "height": 204
        },
        "outputId": "0eae32d1-d1a8-480d-c3f1-a2d88631f020"
      },
      "source": [
        "!wget -O Simple.java https://raw.githubusercontent.com/IronSenpai/javaColab/master/Simple.java"
      ],
      "execution_count": 17,
      "outputs": [
        {
          "output_type": "stream",
          "text": [
            "--2019-11-05 16:54:04--  https://raw.githubusercontent.com/IronSenpai/javaColab/master/Simple.java\n",
            "Resolving raw.githubusercontent.com (raw.githubusercontent.com)... 151.101.0.133, 151.101.64.133, 151.101.128.133, ...\n",
            "Connecting to raw.githubusercontent.com (raw.githubusercontent.com)|151.101.0.133|:443... connected.\n",
            "HTTP request sent, awaiting response... 200 OK\n",
            "Length: 114 [text/plain]\n",
            "Saving to: ‘Simple.java’\n",
            "\n",
            "\rSimple.java           0%[                    ]       0  --.-KB/s               \rSimple.java         100%[===================>]     114  --.-KB/s    in 0s      \n",
            "\n",
            "2019-11-05 16:54:04 (36.9 MB/s) - ‘Simple.java’ saved [114/114]\n",
            "\n"
          ],
          "name": "stdout"
        }
      ]
    },
    {
      "cell_type": "markdown",
      "metadata": {
        "id": "yGHtz-6fjQo3",
        "colab_type": "text"
      },
      "source": [
        "Compile the java file"
      ]
    },
    {
      "cell_type": "code",
      "metadata": {
        "id": "wZ6y0ZuZd7FX",
        "colab_type": "code",
        "colab": {}
      },
      "source": [
        "!javac Simple.java"
      ],
      "execution_count": 0,
      "outputs": []
    },
    {
      "cell_type": "markdown",
      "metadata": {
        "id": "lx9Fm3m3jUG_",
        "colab_type": "text"
      },
      "source": [
        "Run the java file"
      ]
    },
    {
      "cell_type": "code",
      "metadata": {
        "id": "ggakeIvtfQ1B",
        "colab_type": "code",
        "colab": {
          "base_uri": "https://localhost:8080/",
          "height": 34
        },
        "outputId": "f24aeefd-87a8-4181-d6ad-f4e803a73ab3"
      },
      "source": [
        "!java Simple"
      ],
      "execution_count": 30,
      "outputs": [
        {
          "output_type": "stream",
          "text": [
            "Hello Java\n"
          ],
          "name": "stdout"
        }
      ]
    },
    {
      "cell_type": "markdown",
      "metadata": {
        "id": "lRAYcwl_jBAN",
        "colab_type": "text"
      },
      "source": [
        "Wrap console output as python string output and remove trailing and leading new lines"
      ]
    },
    {
      "cell_type": "code",
      "metadata": {
        "id": "XGVG43RHhjKA",
        "colab_type": "code",
        "colab": {
          "base_uri": "https://localhost:8080/",
          "height": 34
        },
        "outputId": "a62ef2c5-1cae-44f5-dfa3-f7bda564e1e0"
      },
      "source": [
        "import io\n",
        "from contextlib import redirect_stdout\n",
        "\n",
        "with io.StringIO() as buf, redirect_stdout(buf):\n",
        "    print('')\n",
        "    !java Simple\n",
        "    output = (buf.getvalue()).strip()\n",
        "\n",
        "output"
      ],
      "execution_count": 35,
      "outputs": [
        {
          "output_type": "execute_result",
          "data": {
            "text/plain": [
              "'Hello Java'"
            ]
          },
          "metadata": {
            "tags": []
          },
          "execution_count": 35
        }
      ]
    }
  ]
}